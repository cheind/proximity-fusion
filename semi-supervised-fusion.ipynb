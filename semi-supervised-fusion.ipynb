{
 "cells": [
  {
   "cell_type": "markdown",
   "metadata": {},
   "source": [
    "## Semi-Supervised Parameter Estimation\n",
    "\n",
    "This notebook contains code to reproduce the results of our work on \n",
    "\"Enhanced Human-Machine Interaction by Combining Proximity Sensing with Global Perception\"\n",
    "\n",
    "This code requires `numpy`, `scipy`, `sklearn`, `matplotlib`, `pytorch`, `pandas`"
   ]
  },
  {
   "cell_type": "code",
   "execution_count": 1,
   "metadata": {},
   "outputs": [],
   "source": [
    "import numpy as np\n",
    "import matplotlib.pyplot as plt\n",
    "import naive as naive # See `naive.py` next to notebook file\n",
    "\n",
    "np.random.seed(1)\n",
    "\n",
    "import warnings\n",
    "warnings.filterwarnings(\"ignore\")"
   ]
  },
  {
   "cell_type": "code",
   "execution_count": 2,
   "metadata": {},
   "outputs": [],
   "source": [
    "NUM_CAT_BINS = 4\n",
    "CAT_XYRANGE = [[-5,5], [-1,3]]"
   ]
  },
  {
   "cell_type": "code",
   "execution_count": 3,
   "metadata": {},
   "outputs": [],
   "source": [
    "def preprocess(samples):\n",
    "    '''Preprocess sensor data.\n",
    "    Corrects invalid sensor readings and computes 1D bin coordinates for xy-positions.'''\n",
    "    \n",
    "    # Add bin coordinates for xy positions\n",
    "    h = naive.Histogram(num_bins=NUM_CAT_BINS, xyrange=CAT_XYRANGE)\n",
    "    b = h.bin_coords1d(samples[:, 1:3])\n",
    "    num_bins = h.H.shape[0]*h.H.shape[1]\n",
    "    \n",
    "    samples = np.hstack((samples[:, :-1], b.reshape(-1, 1), samples[:, -1].reshape(-1,1)))\n",
    "    \n",
    "    # Remove incorrect sensor readings\n",
    "    samples[:, 0] = np.clip(samples[:, 0], 1e-6, 1-1e-6)\n",
    "    samples[:, 1:-1] = np.nan_to_num(samples[:, 1:-1])\n",
    "    \n",
    "    return samples # Batch x [Confidence, X, Y, CosAngle, Bin, C]"
   ]
  },
  {
   "cell_type": "code",
   "execution_count": 4,
   "metadata": {},
   "outputs": [
    {
     "data": {
      "text/plain": [
       "((4500, 6), (5000, 6))"
      ]
     },
     "execution_count": 4,
     "metadata": {},
     "output_type": "execute_result"
    }
   ],
   "source": [
    "train_samples = preprocess(np.load('train_c.npy'))\n",
    "test_samples = preprocess(np.load('test.npy'))\n",
    "train_samples.shape, test_samples.shape"
   ]
  },
  {
   "cell_type": "code",
   "execution_count": 5,
   "metadata": {},
   "outputs": [],
   "source": [
    "from sklearn.model_selection import ShuffleSplit\n",
    "\n",
    "def split(samples, frac_fully=0.1, frac_partially=None, num_splits=5):\n",
    "    '''Split data multiple times into fully and partially observed sets'''\n",
    "    \n",
    "    if frac_partially is None:\n",
    "        frac_partially = 1 - frac_fully\n",
    "        \n",
    "    sp = ShuffleSplit(\n",
    "        n_splits=num_splits, \n",
    "        train_size=frac_fully, \n",
    "        test_size=frac_partially)\n",
    "    \n",
    "    return sp.split(samples)\n",
    "    "
   ]
  },
  {
   "cell_type": "markdown",
   "metadata": {},
   "source": [
    "Naive Bayes classification."
   ]
  },
  {
   "cell_type": "code",
   "execution_count": 6,
   "metadata": {},
   "outputs": [],
   "source": [
    "class NaiveBayes:\n",
    "    '''Naive Bayes for classification. \n",
    "    See section II.D of our publication '''\n",
    "    def __init__(self):\n",
    "        pass\n",
    "    \n",
    "    def fit(self, samples):\n",
    "        '''Fit based on maximum likelihood assuming all samples are fully observed.'''\n",
    "        mask = samples[:, -1] == 1\n",
    "        tp = samples[mask]\n",
    "        tn = samples[~mask]\n",
    "        \n",
    "        self.c = naive.Bernoulli.fit(mask)\n",
    "        self.fg = [naive.Beta.fit(tp[:, 0]), naive.Beta.fit(tn[:, 0])]\n",
    "        self.fxy = [naive.Categorical2d.fit(tp[:, 1:3], num_bins=NUM_CAT_BINS, xyrange=CAT_XYRANGE), \n",
    "                    naive.Categorical2d.fit(tn[:, 1:3], num_bins=NUM_CAT_BINS, xyrange=CAT_XYRANGE)]\n",
    "        self.fo = [naive.Normal.fit(tp[:,3]), naive.Normal.fit(tn[:,3])] # 0..1 range   \n",
    "        \n",
    "    def set_from_torch(self, params):\n",
    "        '''Set parameters from torch optimization.'''\n",
    "        theta, a, b, mu, sigma, alpha = [p.detach().numpy() for p in params] \n",
    "        self.c = naive.Bernoulli(np.asscalar(theta))\n",
    "        self.fg = [naive.Beta(a[0], b[0]), naive.Beta(a[1], b[1])]\n",
    "        self.fxy = [naive.Categorical2d(naive.Histogram(H=alpha[0], num_bins=NUM_CAT_BINS, xyrange=CAT_XYRANGE)), \n",
    "                    naive.Categorical2d(naive.Histogram(H=alpha[1], num_bins=NUM_CAT_BINS, xyrange=CAT_XYRANGE))]\n",
    "        self.fo = [naive.Normal(mu[0], sigma[0]**2), naive.Normal(mu[1], sigma[1]**2)]\n",
    "        \n",
    "    def classify(self, x):\n",
    "        '''Classify the samples in rows of x.'''\n",
    "        x = np.asarray(x)\n",
    "        N = x.shape[0]\n",
    "        \n",
    "        pos = self.c.pdf(np.ones(N)) * self.fg[0].pdf(x[:,0]) * self.fxy[0].pdf(x[:,1:3]) * self.fo[0].pdf(x[:,3])\n",
    "        neg = self.c.pdf(np.zeros(N)) * self.fg[1].pdf(x[:,0]) * self.fxy[1].pdf(x[:,1:3]) * self.fo[1].pdf(x[:,3])\n",
    "        \n",
    "        return pos / (pos + neg)\n",
    "    \n",
    "    def __repr__(self):\n",
    "        return f'NaiveBayes(C={self.c}, Fg={self.fg[0]}/{self.fg[1]}, Fxy={self.fxy[0]}/{self.fxy[1]}, Fo={self.fo[0]}/{self.fo[1]})'\n",
    "    "
   ]
  },
  {
   "cell_type": "markdown",
   "metadata": {},
   "source": [
    "### Semi-supervised training"
   ]
  },
  {
   "cell_type": "code",
   "execution_count": 7,
   "metadata": {},
   "outputs": [],
   "source": [
    "import torch\n",
    "import torch.distributions as d\n",
    "import torch.distributions.constraints as constraints\n",
    "import torch.optim as optim"
   ]
  },
  {
   "cell_type": "markdown",
   "metadata": {},
   "source": [
    "We optimize parameters $\\Omega$ in an unconstrained real domain. The following transforms either transform from or to this domain."
   ]
  },
  {
   "cell_type": "code",
   "execution_count": 8,
   "metadata": {},
   "outputs": [],
   "source": [
    "zeroone_t = d.transform_to(constraints.interval(0, 1)) # -inf,inf -> 0,1\n",
    "gt_t = d.transform_to(constraints.greater_than(0)) # -inf,inf -> >0\n",
    "simplex_t = d.transform_to(d.constraints.simplex)  # {R_i} -> sum({R_i})=1, R_i>=0\n",
    "\n",
    "def transform(unconstrained_params):\n",
    "    '''Transform from unconstrained domain to constrained parameter domain.'''\n",
    "    theta, a, b, mu, sigma, alpha = unconstrained_params\n",
    "    theta = zeroone_t(theta)\n",
    "    a = gt_t(a) \n",
    "    b = gt_t(b) \n",
    "    sigma = gt_t(sigma) \n",
    "    alpha = torch.stack([\n",
    "        simplex_t(alpha[0]),\n",
    "        simplex_t(alpha[1]),\n",
    "    ], 0)\n",
    "    return theta, a, b, mu, sigma, alpha\n",
    "\n",
    "def inv_transform(constrained_params):\n",
    "    '''Transform from constrained parameter domain to unconstrained.'''\n",
    "    theta, a, b, mu, sigma, alpha = constrained_params\n",
    "    theta = zeroone_t.inv(theta)\n",
    "    a = gt_t.inv(a)\n",
    "    b = gt_t.inv(b)\n",
    "    sigma = gt_t.inv(sigma)\n",
    "    alpha = torch.stack([\n",
    "        simplex_t.inv(alpha[0]),\n",
    "        simplex_t.inv(alpha[1]),\n",
    "    ], 0)\n",
    "    return theta, a, b, mu, sigma, alpha"
   ]
  },
  {
   "cell_type": "code",
   "execution_count": 9,
   "metadata": {},
   "outputs": [],
   "source": [
    "def log_joint(unconstrained_params, f):\n",
    "    '''Compute the log joint probability of our model (eq. 2).\n",
    "    \n",
    "    Params\n",
    "        unconstrained_params: $\\Omega$ in unconstrained domain\n",
    "        f: Nx [Confidence, X, Y, CosAngle, Bin] observations.\n",
    "    \n",
    "    Returns\n",
    "        Nx2 array containing the log joint probability table computed for\n",
    "        both values of C in the last dimensions (index 0: c=1, index 1: c=0)\n",
    "    '''\n",
    "    theta, a, b, mu, sigma, alpha = transform(unconstrained_params)    \n",
    "    \n",
    "    bernoulli = d.Bernoulli(probs=theta)\n",
    "    betae = [d.Beta(a[0], b[0]), d.Beta(a[1], b[1])]                 # p(f_g|c=1), p(f_g|c=0)   \n",
    "    normals = [d.Normal(mu[0], sigma[0]), d.Normal(mu[1], sigma[1])] # p(f_o|c=1), p(f_o|c=0)   \n",
    "    cats = [d.Categorical(alpha[0]), d.Categorical(alpha[1])]        # p(f_xy|c=1), p(f_xy|c=0)   \n",
    "        \n",
    "    cs = [torch.ones(f.shape[0]), torch.zeros(f.shape[0])]    \n",
    "    lj = [bernoulli.log_prob(c) + \n",
    "          beta.log_prob(f[:, 0]) + \n",
    "          normal.log_prob(f[:, 3]) + \n",
    "          1e-2*cat.log_prob(f[:, 4].type(torch.long)) \n",
    "              for c,beta,normal,cat in zip(cs, betae, normals, cats)]\n",
    "    \n",
    "    return torch.stack(lj, -1) # Nx2    \n",
    "\n",
    "def q(lj):\n",
    "    '''E-Step of EM algorithm (eq. 4)\n",
    "    \n",
    "    Params\n",
    "        lj: Nx2 array containing log joint probabilities\n",
    "    \n",
    "    Returns\n",
    "        Nx2 array containing p(C_i | F_i, Omega^t)   \n",
    "    '''\n",
    "    j = torch.exp(lj)\n",
    "    s = j[:, 0] + j[:, 1]\n",
    "    return j / s[:, None] # Nx2 with c=1 at index 0, c=0 at index 1"
   ]
  },
  {
   "cell_type": "code",
   "execution_count": 10,
   "metadata": {},
   "outputs": [],
   "source": [
    "def em_bfgs(fo, po, initial_params):\n",
    "    from scipy.optimize import minimize\n",
    "    \n",
    "    fo, po = torch.from_numpy(fo).type(torch.float32), torch.from_numpy(po).type(torch.float32)\n",
    "    balance = (fo.shape[0] + 1) / (po.shape[0] + 1)\n",
    "    \n",
    "    def flatten(params):\n",
    "        flat = np.concatenate([p.view(-1).numpy() for p in params])\n",
    "        return flat\n",
    "\n",
    "    def unflatten(params):\n",
    "        theta = torch.from_numpy(params[0:1]).type(torch.float32)\n",
    "        a = torch.from_numpy(params[1:3]).type(torch.float32)\n",
    "        b = torch.from_numpy(params[3:5]).type(torch.float32)\n",
    "        mu = torch.from_numpy(params[5:7]).type(torch.float32)\n",
    "        sigma = torch.from_numpy(params[7:9]).type(torch.float32)\n",
    "        alpha = torch.from_numpy(params[9:]).type(torch.float32).view(2,-1)\n",
    "        return theta, a, b, mu, sigma, alpha\n",
    "\n",
    "    def f(x, *args):\n",
    "        \n",
    "        params = [p.requires_grad_() for p in unflatten(x)]\n",
    "        \n",
    "        lj_fo = log_joint(params, fo)\n",
    "        lj_po = log_joint(params, po)\n",
    "        q_po = q(lj_po.detach())\n",
    "                \n",
    "        sel = 1 - fo[:, -1].type(torch.long)\n",
    "        w = ((1. - sel)*10 + (sel)*1).type(torch.float32)\n",
    "        A = (lj_fo[torch.arange(lj_fo.shape[0]), sel]*w).sum()\n",
    "        B = (q_po * lj_po).sum()\n",
    "        \n",
    "        nll = -(A + balance*B)\n",
    "        nll.backward()\n",
    "        \n",
    "        grad = flatten([p.grad.data for p in params])\n",
    "        loss = nll.item()\n",
    "        \n",
    "        return loss, grad\n",
    "    \n",
    "    pstart = flatten(inv_transform(initial_params))\n",
    "    r = minimize(f, pstart, method='BFGS', jac=True, options={'maxiter':1000, 'gtol':1e-3})\n",
    "    pfinal = transform(unflatten(r.x))\n",
    "    \n",
    "    print('Negative log-likelihood', r.fun)\n",
    "    return pfinal"
   ]
  },
  {
   "cell_type": "code",
   "execution_count": 11,
   "metadata": {},
   "outputs": [],
   "source": [
    "def initial_torch_params(fo):\n",
    "    '''Compute initial params for optimization\n",
    "    \n",
    "    This performs a maximum likelihood fit on the fully observed \n",
    "    sample set.\n",
    "    '''\n",
    "    # Max likelihood fit on fully observed data\n",
    "    nb = NaiveBayes()\n",
    "    nb.fit(fo)\n",
    "    \n",
    "    # Convert to torch params for optimization\n",
    "    theta = torch.tensor([nb.c.theta])\n",
    "    a = torch.tensor([nb.fg[0].a, nb.fg[1].a])\n",
    "    b = torch.tensor([nb.fg[0].b, nb.fg[1].b])\n",
    "    mu = torch.tensor([nb.fo[0].mu, nb.fo[1].mu])\n",
    "    sigma = torch.sqrt(torch.tensor([np.asscalar(nb.fo[0].cov), np.asscalar(nb.fo[1].cov)]))\n",
    "    alpha = torch.stack((torch.from_numpy(nb.fxy[0].hist.H).view(-1), torch.from_numpy(nb.fxy[1].hist.H).view(-1)), 0)\n",
    "            \n",
    "    return (theta, a, b, mu, sigma, alpha)"
   ]
  },
  {
   "cell_type": "code",
   "execution_count": 12,
   "metadata": {},
   "outputs": [],
   "source": [
    "from sklearn import svm\n",
    "from sklearn.neural_network import MLPClassifier\n",
    "from collections import defaultdict\n",
    "\n",
    "def compute_scores(frac_fully, frac_partially=None, num_exp=5, test_samples=test_samples):\n",
    "    '''Compute average classification scores by running multiple experiments.'''\n",
    "    \n",
    "    scores = defaultdict(list)\n",
    "    \n",
    "    for idx_full, idx_partial in split(train_samples, frac_fully=frac_fully, frac_partially=frac_partially, num_splits=num_exp):\n",
    "        \n",
    "        fo, po = train_samples[idx_full], train_samples[idx_partial, :-1]  \n",
    "       \n",
    "        try :\n",
    "            initial_params = initial_torch_params(fo)\n",
    "            final_params = em_bfgs(fo, po, initial_params)\n",
    "\n",
    "            clf_nb = NaiveBayes()\n",
    "            clf_nb.fit(fo)\n",
    "\n",
    "            clf_nbsem = NaiveBayes()\n",
    "            clf_nbsem.set_from_torch(final_params)\n",
    "            \n",
    "            clf_svm = svm.SVC(gamma='scale', probability=True)\n",
    "            clf_svm.fit(fo[:, :-2], fo[:, -1]) # we don't pass bin-index but use xy coords directly.\n",
    "            \n",
    "            clf_nn = MLPClassifier(solver='lbfgs', alpha=1e-5, hidden_layer_sizes=(5, 2))\n",
    "            clf_nn.fit(fo[:, :-2], fo[:, -1])\n",
    "            \n",
    "            scores['NB'].append(np.nan_to_num(clf_nb.classify(test_samples)))\n",
    "            scores['NB-SEM'].append(np.nan_to_num(clf_nbsem.classify(test_samples)))\n",
    "            scores['SVM'].append(np.nan_to_num(clf_svm.predict_proba(test_samples[:, :-2])[:, 1]))\n",
    "            scores['NN'].append(np.nan_to_num(clf_nn.predict_proba(test_samples[:, :-2])[:, 1]))\n",
    "            \n",
    "        except Exception:\n",
    "            pass\n",
    "        \n",
    "    return {k:{'score':np.median(v, 0)} for k,v in scores.items()}"
   ]
  },
  {
   "cell_type": "markdown",
   "metadata": {},
   "source": [
    "### Evaluation"
   ]
  },
  {
   "cell_type": "code",
   "execution_count": 13,
   "metadata": {},
   "outputs": [
    {
     "name": "stdout",
     "output_type": "stream",
     "text": [
      "Negative log-likelihood 83.22737884521484\n",
      "Negative log-likelihood 70.27030944824219\n",
      "Negative log-likelihood 94.54533386230469\n",
      "Negative log-likelihood 86.99243927001953\n",
      "Negative log-likelihood 58.066314697265625\n",
      "Negative log-likelihood nan\n",
      "Negative log-likelihood 41.65480041503906\n",
      "Negative log-likelihood 71.51250457763672\n",
      "Negative log-likelihood 83.30140686035156\n",
      "Negative log-likelihood 47.12208557128906\n",
      "Negative log-likelihood 941.2644653320312\n",
      "Negative log-likelihood 755.6599731445312\n",
      "Negative log-likelihood 935.0465087890625\n",
      "Negative log-likelihood 883.5426025390625\n",
      "Negative log-likelihood nan\n",
      "Negative log-likelihood 909.61962890625\n",
      "Negative log-likelihood 992.957763671875\n",
      "Negative log-likelihood 876.1930541992188\n",
      "Negative log-likelihood 1001.3602294921875\n",
      "Negative log-likelihood 760.4156494140625\n",
      "Negative log-likelihood 3735.7216796875\n",
      "Negative log-likelihood 3850.162109375\n",
      "Negative log-likelihood 3644.033203125\n",
      "Negative log-likelihood nan\n",
      "Negative log-likelihood 3684.50390625\n",
      "Negative log-likelihood 3662.12353515625\n",
      "Negative log-likelihood 3682.772705078125\n",
      "Negative log-likelihood 3802.70556640625\n",
      "Negative log-likelihood 3719.099365234375\n",
      "Negative log-likelihood 3669.175048828125\n"
     ]
    }
   ],
   "source": [
    "from sklearn.metrics import average_precision_score as avgprec\n",
    "from sklearn.metrics import precision_recall_curve as prcrec\n",
    "from sklearn.metrics import f1_score\n",
    "\n",
    "fracs = [0.02, 0.2, 0.8]\n",
    "scores = [compute_scores(f, num_exp=10) for f in fracs]\n",
    "# In the following you might see some NANs. This happens when the percent of data is so low, \n",
    "# that not a single TP/TN is in the train set. We skip those experiments."
   ]
  },
  {
   "cell_type": "code",
   "execution_count": 14,
   "metadata": {},
   "outputs": [],
   "source": [
    "y_true = test_samples[:, -1].astype(np.long)\n",
    "\n",
    "# Compute APs and precision/recall curves\n",
    "for level in scores:\n",
    "    for v in level.values():\n",
    "        v['ap'] = avgprec(y_true, v['score'])\n",
    "        v['curve'] = prcrec(y_true, v['score'])\n",
    "        ths = v['curve'][2]\n",
    "        v['f1'] = [f1_score(y_true, v['score'] >= th, average='macro') for th in ths]\n",
    "        v['f1max'] = np.max(v['f1'])"
   ]
  },
  {
   "cell_type": "code",
   "execution_count": 15,
   "metadata": {},
   "outputs": [
    {
     "name": "stdout",
     "output_type": "stream",
     "text": [
      "FO 0.02:NB 0.787,NB-SEM 0.919,SVM 0.844,NN 0.740,\n",
      "FO 0.20:NB 0.908,NB-SEM 0.930,SVM 0.909,NN 0.934,\n",
      "FO 0.80:NB 0.925,NB-SEM 0.935,SVM 0.930,NN 0.945,\n"
     ]
    }
   ],
   "source": [
    "# Print APs\n",
    "for f,level in zip(fracs, scores):\n",
    "    print(f'FO {f:.2f}', end=':')\n",
    "    for k,v in level.items():\n",
    "        print(k, f'{v[\"ap\"]:.3f}', end=',')\n",
    "    print()"
   ]
  },
  {
   "cell_type": "code",
   "execution_count": 20,
   "metadata": {},
   "outputs": [],
   "source": [
    "def plot_classifier_comparison(f, level):\n",
    "    import seaborn as sns\n",
    "    rc={'font.family': 'Times New Roman', 'font.size': 18, 'axes.labelsize': 18, 'legend.fontsize': 18.0, \n",
    "        'axes.titlesize': 18, 'xtick.labelsize': 18, 'ytick.labelsize': 18}\n",
    "    sns.set(font_scale=1.8)\n",
    "    sns.set_style('whitegrid', rc=rc)\n",
    "\n",
    "    from scipy.interpolate import interp1d\n",
    "    xnew = np.linspace(0, 1, 300)\n",
    "    \n",
    "    from cycler import cycler\n",
    "    linestyle = cycler(linestyle=['-', '--', ':', '-.'], color='bgrc')\n",
    "\n",
    "    fig, axs = plt.subplots(figsize=(9,7))\n",
    "    axs.set_prop_cycle(linestyle)\n",
    "    for clf,data in level.items():\n",
    "        prec,rec,_ = data['curve']\n",
    "        decreasing_max_precision = np.maximum.accumulate(prec)[::-1]\n",
    "        interp = interp1d(rec[::-1], decreasing_max_precision, kind='linear')\n",
    "        axs.plot(xnew, interp(xnew), label=f'{clf} - AP {data[\"ap\"]:.2f}, F1 {data[\"f1max\"]:.2f}', linewidth=3.0)\n",
    "    \n",
    "    axs.legend(loc='lower left')\n",
    "    axs.set_xlabel('Recall')\n",
    "    axs.set_ylabel('Precision')\n",
    "    sns.despine(left=True, bottom=True)\n",
    "    plt.tight_layout()\n",
    "    fig.savefig('classification_compare.pdf', bbox_inches='tight', pad_inches=0)"
   ]
  },
  {
   "cell_type": "code",
   "execution_count": 21,
   "metadata": {},
   "outputs": [
    {
     "data": {
      "image/png": "[encoded data removed]",
      "text/plain": [
       "<Figure size 648x504 with 1 Axes>"
      ]
     },
     "metadata": {},
     "output_type": "display_data"
    }
   ],
   "source": [
    "plot_classifier_comparison(fracs[0], scores[0])"
   ]
  },
  {
   "cell_type": "code",
   "execution_count": 18,
   "metadata": {},
   "outputs": [],
   "source": [
    "def plot_effect_unlabelled(fracs, scores):\n",
    "    import pandas as pd\n",
    "    \n",
    "    rows_ap = []\n",
    "    rows_f1 = []\n",
    "    for f, level in zip(fracs, scores):\n",
    "        dap = {'f':f}\n",
    "        df1 = {'f':f}\n",
    "        for clf, data in level.items():\n",
    "            dap[clf] = data['ap']\n",
    "            df1[clf] = data['f1max']\n",
    "        rows_ap.append(dap)\n",
    "        rows_f1.append(dap)\n",
    "            \n",
    "    \n",
    "    print('AP')\n",
    "    df = pd.DataFrame(rows_ap).set_index('f')\n",
    "    print(df)\n",
    "    print(df.to_latex(float_format=\"{:0.2f}\".format))\n",
    "    \n",
    "    print()\n",
    "    print('F1')\n",
    "    df = pd.DataFrame(rows_f1).set_index('f')\n",
    "    print(df)\n",
    "    print(df.to_latex(float_format=\"{:0.2f}\".format))"
   ]
  },
  {
   "cell_type": "code",
   "execution_count": 19,
   "metadata": {},
   "outputs": [
    {
     "name": "stdout",
     "output_type": "stream",
     "text": [
      "AP\n",
      "            NB    NB-SEM       SVM        NN\n",
      "f                                           \n",
      "0.02  0.787405  0.918874  0.844107  0.739737\n",
      "0.20  0.907603  0.929736  0.908585  0.933589\n",
      "0.80  0.924546  0.935012  0.930170  0.944783\n",
      "\\begin{tabular}{lrrrr}\n",
      "\\toprule\n",
      "{} &   NB &  NB-SEM &  SVM &   NN \\\\\n",
      "f    &      &         &      &      \\\\\n",
      "\\midrule\n",
      "0.02 & 0.79 &    0.92 & 0.84 & 0.74 \\\\\n",
      "0.20 & 0.91 &    0.93 & 0.91 & 0.93 \\\\\n",
      "0.80 & 0.92 &    0.94 & 0.93 & 0.94 \\\\\n",
      "\\bottomrule\n",
      "\\end{tabular}\n",
      "\n",
      "\n",
      "F1\n",
      "            NB    NB-SEM       SVM        NN\n",
      "f                                           \n",
      "0.02  0.787405  0.918874  0.844107  0.739737\n",
      "0.20  0.907603  0.929736  0.908585  0.933589\n",
      "0.80  0.924546  0.935012  0.930170  0.944783\n",
      "\\begin{tabular}{lrrrr}\n",
      "\\toprule\n",
      "{} &   NB &  NB-SEM &  SVM &   NN \\\\\n",
      "f    &      &         &      &      \\\\\n",
      "\\midrule\n",
      "0.02 & 0.79 &    0.92 & 0.84 & 0.74 \\\\\n",
      "0.20 & 0.91 &    0.93 & 0.91 & 0.93 \\\\\n",
      "0.80 & 0.92 &    0.94 & 0.93 & 0.94 \\\\\n",
      "\\bottomrule\n",
      "\\end{tabular}\n",
      "\n"
     ]
    }
   ],
   "source": [
    "plot_effect_unlabelled(fracs, scores)"
   ]
  },
  {
   "cell_type": "markdown",
   "metadata": {},
   "source": []
  }
 ],
 "metadata": {
  "kernelspec": {
   "display_name": "Python 3",
   "language": "python",
   "name": "python3"
  },
  "language_info": {
   "codemirror_mode": {
    "name": "ipython",
    "version": 3
   },
   "file_extension": ".py",
   "mimetype": "text/x-python",
   "name": "python",
   "nbconvert_exporter": "python",
   "pygments_lexer": "ipython3",
   "version": "3.7.0"
  }
 },
 "nbformat": 4,
 "nbformat_minor": 2
}
